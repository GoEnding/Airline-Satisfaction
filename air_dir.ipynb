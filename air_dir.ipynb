{
 "cells": [
  {
   "cell_type": "code",
   "execution_count": 1,
   "id": "4e68c894-445e-4b68-86cd-e1fe18a5bbad",
   "metadata": {},
   "outputs": [],
   "source": [
    "import pandas as pd\n",
    "import numpy as np\n",
    "import matplotlib.pyplot as plt"
   ]
  },
  {
   "cell_type": "code",
   "execution_count": 2,
   "id": "a9e866be-d2a8-409e-b275-6749f59c5279",
   "metadata": {},
   "outputs": [],
   "source": [
    "df1 = pd.read_csv('./data/test.csv',index_col=0)"
   ]
  },
  {
   "cell_type": "code",
   "execution_count": 3,
   "id": "c187a686-9472-40b2-b974-7c17daae157e",
   "metadata": {},
   "outputs": [],
   "source": [
    "df2 = pd.read_csv('./data/train.csv',index_col=0)"
   ]
  },
  {
   "cell_type": "code",
   "execution_count": 4,
   "id": "e967a9cb-5db2-49b8-a7fd-07bd9e81b6c7",
   "metadata": {},
   "outputs": [],
   "source": [
    "df = pd.concat([df1,df2])"
   ]
  },
  {
   "cell_type": "code",
   "execution_count": 5,
   "id": "38c01afe-1b14-426d-af3a-af8f1c1d2b96",
   "metadata": {},
   "outputs": [],
   "source": [
    "df.set_index('id',inplace=True)"
   ]
  },
  {
   "cell_type": "code",
   "execution_count": 6,
   "id": "47486bec-6307-466a-9546-772d1c7b0538",
   "metadata": {},
   "outputs": [],
   "source": [
    "df.reset_index('id',inplace=True)"
   ]
  },
  {
   "cell_type": "code",
   "execution_count": 7,
   "id": "de7bb5a5-b406-4348-bf73-4e44f0fd9400",
   "metadata": {},
   "outputs": [],
   "source": [
    "df = df.drop('id',axis=1)"
   ]
  },
  {
   "cell_type": "code",
   "execution_count": 8,
   "id": "21fac6e3-6061-49e9-9720-5f248570f9a4",
   "metadata": {},
   "outputs": [],
   "source": [
    "df.dropna(inplace=True)"
   ]
  },
  {
   "cell_type": "code",
   "execution_count": 9,
   "id": "85cb14d7-6ce3-420e-9719-e8e61801d6a8",
   "metadata": {},
   "outputs": [
    {
     "data": {
      "text/plain": [
       "129487"
      ]
     },
     "execution_count": 9,
     "metadata": {},
     "output_type": "execute_result"
    }
   ],
   "source": [
    "df.shape[0]"
   ]
  },
  {
   "cell_type": "code",
   "execution_count": 12,
   "id": "efcad14d-9cd0-40eb-8528-258ef4bc1fdd",
   "metadata": {},
   "outputs": [
    {
     "data": {
      "text/plain": [
       "Index(['Gender', 'Customer Type', 'Age', 'Type of Travel', 'Class',\n",
       "       'Flight Distance', 'Inflight wifi service',\n",
       "       'Departure/Arrival time convenient', 'Ease of Online booking',\n",
       "       'Gate location', 'Food and drink', 'Online boarding', 'Seat comfort',\n",
       "       'Inflight entertainment', 'On-board service', 'Leg room service',\n",
       "       'Baggage handling', 'Checkin service', 'Inflight service',\n",
       "       'Cleanliness', 'Departure Delay in Minutes', 'Arrival Delay in Minutes',\n",
       "       'satisfaction'],\n",
       "      dtype='object')"
      ]
     },
     "execution_count": 12,
     "metadata": {},
     "output_type": "execute_result"
    }
   ],
   "source": [
    "df.columns"
   ]
  },
  {
   "cell_type": "code",
   "execution_count": 30,
   "id": "dad18e88-9808-470b-bb20-7c996f495d61",
   "metadata": {},
   "outputs": [
    {
     "data": {
      "text/html": [
       "<div>\n",
       "<style scoped>\n",
       "    .dataframe tbody tr th:only-of-type {\n",
       "        vertical-align: middle;\n",
       "    }\n",
       "\n",
       "    .dataframe tbody tr th {\n",
       "        vertical-align: top;\n",
       "    }\n",
       "\n",
       "    .dataframe thead th {\n",
       "        text-align: right;\n",
       "    }\n",
       "</style>\n",
       "<table border=\"1\" class=\"dataframe\">\n",
       "  <thead>\n",
       "    <tr style=\"text-align: right;\">\n",
       "      <th></th>\n",
       "      <th>성별</th>\n",
       "      <th>고객 유형</th>\n",
       "      <th>나이</th>\n",
       "      <th>비행 목적</th>\n",
       "      <th>클래스</th>\n",
       "      <th>비행 거리</th>\n",
       "      <th>기내 와이파이 서비스</th>\n",
       "      <th>출발/도착 시간 편의성</th>\n",
       "      <th>온라인 예약 편의성</th>\n",
       "      <th>탑승구 위치</th>\n",
       "      <th>...</th>\n",
       "      <th>기내 엔터테인먼트</th>\n",
       "      <th>탑승 서비스</th>\n",
       "      <th>다리 공간 서비스</th>\n",
       "      <th>수하물 처리</th>\n",
       "      <th>체크인 서비스</th>\n",
       "      <th>기내 서비스</th>\n",
       "      <th>청결도</th>\n",
       "      <th>출발 지연(분)</th>\n",
       "      <th>도착 지연(분)</th>\n",
       "      <th>만족도</th>\n",
       "    </tr>\n",
       "  </thead>\n",
       "  <tbody>\n",
       "    <tr>\n",
       "      <th>0</th>\n",
       "      <td>Female</td>\n",
       "      <td>Loyal Customer</td>\n",
       "      <td>52</td>\n",
       "      <td>Business travel</td>\n",
       "      <td>Eco</td>\n",
       "      <td>160</td>\n",
       "      <td>5</td>\n",
       "      <td>4</td>\n",
       "      <td>3</td>\n",
       "      <td>4</td>\n",
       "      <td>...</td>\n",
       "      <td>5</td>\n",
       "      <td>5</td>\n",
       "      <td>5</td>\n",
       "      <td>5</td>\n",
       "      <td>2</td>\n",
       "      <td>5</td>\n",
       "      <td>5</td>\n",
       "      <td>50</td>\n",
       "      <td>44.0</td>\n",
       "      <td>satisfied</td>\n",
       "    </tr>\n",
       "    <tr>\n",
       "      <th>1</th>\n",
       "      <td>Female</td>\n",
       "      <td>Loyal Customer</td>\n",
       "      <td>36</td>\n",
       "      <td>Business travel</td>\n",
       "      <td>Business</td>\n",
       "      <td>2863</td>\n",
       "      <td>1</td>\n",
       "      <td>1</td>\n",
       "      <td>3</td>\n",
       "      <td>1</td>\n",
       "      <td>...</td>\n",
       "      <td>4</td>\n",
       "      <td>4</td>\n",
       "      <td>4</td>\n",
       "      <td>4</td>\n",
       "      <td>3</td>\n",
       "      <td>4</td>\n",
       "      <td>5</td>\n",
       "      <td>0</td>\n",
       "      <td>0.0</td>\n",
       "      <td>satisfied</td>\n",
       "    </tr>\n",
       "    <tr>\n",
       "      <th>2</th>\n",
       "      <td>Male</td>\n",
       "      <td>disloyal Customer</td>\n",
       "      <td>20</td>\n",
       "      <td>Business travel</td>\n",
       "      <td>Eco</td>\n",
       "      <td>192</td>\n",
       "      <td>2</td>\n",
       "      <td>0</td>\n",
       "      <td>2</td>\n",
       "      <td>4</td>\n",
       "      <td>...</td>\n",
       "      <td>2</td>\n",
       "      <td>4</td>\n",
       "      <td>1</td>\n",
       "      <td>3</td>\n",
       "      <td>2</td>\n",
       "      <td>2</td>\n",
       "      <td>2</td>\n",
       "      <td>0</td>\n",
       "      <td>0.0</td>\n",
       "      <td>neutral or dissatisfied</td>\n",
       "    </tr>\n",
       "    <tr>\n",
       "      <th>3</th>\n",
       "      <td>Male</td>\n",
       "      <td>Loyal Customer</td>\n",
       "      <td>44</td>\n",
       "      <td>Business travel</td>\n",
       "      <td>Business</td>\n",
       "      <td>3377</td>\n",
       "      <td>0</td>\n",
       "      <td>0</td>\n",
       "      <td>0</td>\n",
       "      <td>2</td>\n",
       "      <td>...</td>\n",
       "      <td>1</td>\n",
       "      <td>1</td>\n",
       "      <td>1</td>\n",
       "      <td>1</td>\n",
       "      <td>3</td>\n",
       "      <td>1</td>\n",
       "      <td>4</td>\n",
       "      <td>0</td>\n",
       "      <td>6.0</td>\n",
       "      <td>satisfied</td>\n",
       "    </tr>\n",
       "    <tr>\n",
       "      <th>4</th>\n",
       "      <td>Female</td>\n",
       "      <td>Loyal Customer</td>\n",
       "      <td>49</td>\n",
       "      <td>Business travel</td>\n",
       "      <td>Eco</td>\n",
       "      <td>1182</td>\n",
       "      <td>2</td>\n",
       "      <td>3</td>\n",
       "      <td>4</td>\n",
       "      <td>3</td>\n",
       "      <td>...</td>\n",
       "      <td>2</td>\n",
       "      <td>2</td>\n",
       "      <td>2</td>\n",
       "      <td>2</td>\n",
       "      <td>4</td>\n",
       "      <td>2</td>\n",
       "      <td>4</td>\n",
       "      <td>0</td>\n",
       "      <td>20.0</td>\n",
       "      <td>satisfied</td>\n",
       "    </tr>\n",
       "    <tr>\n",
       "      <th>...</th>\n",
       "      <td>...</td>\n",
       "      <td>...</td>\n",
       "      <td>...</td>\n",
       "      <td>...</td>\n",
       "      <td>...</td>\n",
       "      <td>...</td>\n",
       "      <td>...</td>\n",
       "      <td>...</td>\n",
       "      <td>...</td>\n",
       "      <td>...</td>\n",
       "      <td>...</td>\n",
       "      <td>...</td>\n",
       "      <td>...</td>\n",
       "      <td>...</td>\n",
       "      <td>...</td>\n",
       "      <td>...</td>\n",
       "      <td>...</td>\n",
       "      <td>...</td>\n",
       "      <td>...</td>\n",
       "      <td>...</td>\n",
       "      <td>...</td>\n",
       "    </tr>\n",
       "    <tr>\n",
       "      <th>129875</th>\n",
       "      <td>Female</td>\n",
       "      <td>disloyal Customer</td>\n",
       "      <td>23</td>\n",
       "      <td>Business travel</td>\n",
       "      <td>Eco</td>\n",
       "      <td>192</td>\n",
       "      <td>2</td>\n",
       "      <td>1</td>\n",
       "      <td>2</td>\n",
       "      <td>3</td>\n",
       "      <td>...</td>\n",
       "      <td>2</td>\n",
       "      <td>3</td>\n",
       "      <td>1</td>\n",
       "      <td>4</td>\n",
       "      <td>2</td>\n",
       "      <td>3</td>\n",
       "      <td>2</td>\n",
       "      <td>3</td>\n",
       "      <td>0.0</td>\n",
       "      <td>neutral or dissatisfied</td>\n",
       "    </tr>\n",
       "    <tr>\n",
       "      <th>129876</th>\n",
       "      <td>Male</td>\n",
       "      <td>Loyal Customer</td>\n",
       "      <td>49</td>\n",
       "      <td>Business travel</td>\n",
       "      <td>Business</td>\n",
       "      <td>2347</td>\n",
       "      <td>4</td>\n",
       "      <td>4</td>\n",
       "      <td>4</td>\n",
       "      <td>4</td>\n",
       "      <td>...</td>\n",
       "      <td>5</td>\n",
       "      <td>5</td>\n",
       "      <td>5</td>\n",
       "      <td>5</td>\n",
       "      <td>5</td>\n",
       "      <td>5</td>\n",
       "      <td>4</td>\n",
       "      <td>0</td>\n",
       "      <td>0.0</td>\n",
       "      <td>satisfied</td>\n",
       "    </tr>\n",
       "    <tr>\n",
       "      <th>129877</th>\n",
       "      <td>Male</td>\n",
       "      <td>disloyal Customer</td>\n",
       "      <td>30</td>\n",
       "      <td>Business travel</td>\n",
       "      <td>Business</td>\n",
       "      <td>1995</td>\n",
       "      <td>1</td>\n",
       "      <td>1</td>\n",
       "      <td>1</td>\n",
       "      <td>3</td>\n",
       "      <td>...</td>\n",
       "      <td>4</td>\n",
       "      <td>3</td>\n",
       "      <td>2</td>\n",
       "      <td>4</td>\n",
       "      <td>5</td>\n",
       "      <td>5</td>\n",
       "      <td>4</td>\n",
       "      <td>7</td>\n",
       "      <td>14.0</td>\n",
       "      <td>neutral or dissatisfied</td>\n",
       "    </tr>\n",
       "    <tr>\n",
       "      <th>129878</th>\n",
       "      <td>Female</td>\n",
       "      <td>disloyal Customer</td>\n",
       "      <td>22</td>\n",
       "      <td>Business travel</td>\n",
       "      <td>Eco</td>\n",
       "      <td>1000</td>\n",
       "      <td>1</td>\n",
       "      <td>1</td>\n",
       "      <td>1</td>\n",
       "      <td>5</td>\n",
       "      <td>...</td>\n",
       "      <td>1</td>\n",
       "      <td>4</td>\n",
       "      <td>5</td>\n",
       "      <td>1</td>\n",
       "      <td>5</td>\n",
       "      <td>4</td>\n",
       "      <td>1</td>\n",
       "      <td>0</td>\n",
       "      <td>0.0</td>\n",
       "      <td>neutral or dissatisfied</td>\n",
       "    </tr>\n",
       "    <tr>\n",
       "      <th>129879</th>\n",
       "      <td>Male</td>\n",
       "      <td>Loyal Customer</td>\n",
       "      <td>27</td>\n",
       "      <td>Business travel</td>\n",
       "      <td>Business</td>\n",
       "      <td>1723</td>\n",
       "      <td>1</td>\n",
       "      <td>3</td>\n",
       "      <td>3</td>\n",
       "      <td>3</td>\n",
       "      <td>...</td>\n",
       "      <td>1</td>\n",
       "      <td>1</td>\n",
       "      <td>1</td>\n",
       "      <td>4</td>\n",
       "      <td>4</td>\n",
       "      <td>3</td>\n",
       "      <td>1</td>\n",
       "      <td>0</td>\n",
       "      <td>0.0</td>\n",
       "      <td>neutral or dissatisfied</td>\n",
       "    </tr>\n",
       "  </tbody>\n",
       "</table>\n",
       "<p>129487 rows × 23 columns</p>\n",
       "</div>"
      ],
      "text/plain": [
       "            성별              고객 유형  나이            비행 목적       클래스  비행 거리  \\\n",
       "0       Female     Loyal Customer  52  Business travel       Eco    160   \n",
       "1       Female     Loyal Customer  36  Business travel  Business   2863   \n",
       "2         Male  disloyal Customer  20  Business travel       Eco    192   \n",
       "3         Male     Loyal Customer  44  Business travel  Business   3377   \n",
       "4       Female     Loyal Customer  49  Business travel       Eco   1182   \n",
       "...        ...                ...  ..              ...       ...    ...   \n",
       "129875  Female  disloyal Customer  23  Business travel       Eco    192   \n",
       "129876    Male     Loyal Customer  49  Business travel  Business   2347   \n",
       "129877    Male  disloyal Customer  30  Business travel  Business   1995   \n",
       "129878  Female  disloyal Customer  22  Business travel       Eco   1000   \n",
       "129879    Male     Loyal Customer  27  Business travel  Business   1723   \n",
       "\n",
       "        기내 와이파이 서비스  출발/도착 시간 편의성  온라인 예약 편의성  탑승구 위치  ...  기내 엔터테인먼트  탑승 서비스  \\\n",
       "0                 5             4           3       4  ...          5       5   \n",
       "1                 1             1           3       1  ...          4       4   \n",
       "2                 2             0           2       4  ...          2       4   \n",
       "3                 0             0           0       2  ...          1       1   \n",
       "4                 2             3           4       3  ...          2       2   \n",
       "...             ...           ...         ...     ...  ...        ...     ...   \n",
       "129875            2             1           2       3  ...          2       3   \n",
       "129876            4             4           4       4  ...          5       5   \n",
       "129877            1             1           1       3  ...          4       3   \n",
       "129878            1             1           1       5  ...          1       4   \n",
       "129879            1             3           3       3  ...          1       1   \n",
       "\n",
       "        다리 공간 서비스  수하물 처리  체크인 서비스  기내 서비스  청결도  출발 지연(분)  도착 지연(분)  \\\n",
       "0               5       5        2       5    5        50      44.0   \n",
       "1               4       4        3       4    5         0       0.0   \n",
       "2               1       3        2       2    2         0       0.0   \n",
       "3               1       1        3       1    4         0       6.0   \n",
       "4               2       2        4       2    4         0      20.0   \n",
       "...           ...     ...      ...     ...  ...       ...       ...   \n",
       "129875          1       4        2       3    2         3       0.0   \n",
       "129876          5       5        5       5    4         0       0.0   \n",
       "129877          2       4        5       5    4         7      14.0   \n",
       "129878          5       1        5       4    1         0       0.0   \n",
       "129879          1       4        4       3    1         0       0.0   \n",
       "\n",
       "                            만족도  \n",
       "0                     satisfied  \n",
       "1                     satisfied  \n",
       "2       neutral or dissatisfied  \n",
       "3                     satisfied  \n",
       "4                     satisfied  \n",
       "...                         ...  \n",
       "129875  neutral or dissatisfied  \n",
       "129876                satisfied  \n",
       "129877  neutral or dissatisfied  \n",
       "129878  neutral or dissatisfied  \n",
       "129879  neutral or dissatisfied  \n",
       "\n",
       "[129487 rows x 23 columns]"
      ]
     },
     "execution_count": 30,
     "metadata": {},
     "output_type": "execute_result"
    }
   ],
   "source": [
    "df"
   ]
  },
  {
   "cell_type": "code",
   "execution_count": 13,
   "id": "5be265eb-4c51-4334-9774-55d95e062fd4",
   "metadata": {},
   "outputs": [],
   "source": [
    "translation = {\n",
    "    'Gender': '성별',\n",
    "    'Customer Type': '고객 유형',\n",
    "    'Age': '나이',\n",
    "    'Type of Travel': '비행 목적',\n",
    "    'Class': '클래스',\n",
    "    'Flight Distance': '비행 거리',\n",
    "    'Inflight wifi service': '기내 와이파이 서비스',\n",
    "    'Departure/Arrival time convenient': '출발/도착 시간 편의성',\n",
    "    'Ease of Online booking': '온라인 예약 편의성',\n",
    "    'Gate location': '탑승구 위치',\n",
    "    'Food and drink': '음식과 음료',\n",
    "    'Online boarding': '온라인 탑승',\n",
    "    'Seat comfort': '좌석 편안함',\n",
    "    'Inflight entertainment': '기내 엔터테인먼트',\n",
    "    'On-board service': '탑승 서비스',\n",
    "    'Leg room service': '다리 공간 서비스',\n",
    "    'Baggage handling': '수하물 처리',\n",
    "    'Checkin service': '체크인 서비스',\n",
    "    'Inflight service': '기내 서비스',\n",
    "    'Cleanliness': '청결도',\n",
    "    'Departure Delay in Minutes': '출발 지연(분)',\n",
    "    'Arrival Delay in Minutes': '도착 지연(분)',\n",
    "    'satisfaction': '만족도'\n",
    "}\n",
    "df.columns = [translation[col] for col in df.columns]"
   ]
  },
  {
   "cell_type": "code",
   "execution_count": 108,
   "id": "626a6527-dfcc-40f1-8b46-23a1f38e2ad9",
   "metadata": {},
   "outputs": [],
   "source": [
    "df\n",
    "df.to_csv('./data/Airline_sa.csv')"
   ]
  },
  {
   "cell_type": "code",
   "execution_count": 20,
   "id": "7bdec87c-072f-48b9-b30a-1e5aa8697297",
   "metadata": {},
   "outputs": [
    {
     "data": {
      "text/html": [
       "<div>\n",
       "<style scoped>\n",
       "    .dataframe tbody tr th:only-of-type {\n",
       "        vertical-align: middle;\n",
       "    }\n",
       "\n",
       "    .dataframe tbody tr th {\n",
       "        vertical-align: top;\n",
       "    }\n",
       "\n",
       "    .dataframe thead th {\n",
       "        text-align: right;\n",
       "    }\n",
       "</style>\n",
       "<table border=\"1\" class=\"dataframe\">\n",
       "  <thead>\n",
       "    <tr style=\"text-align: right;\">\n",
       "      <th></th>\n",
       "      <th>고객 유형_Loyal Customer</th>\n",
       "      <th>고객 유형_disloyal Customer</th>\n",
       "    </tr>\n",
       "  </thead>\n",
       "  <tbody>\n",
       "    <tr>\n",
       "      <th>0</th>\n",
       "      <td>True</td>\n",
       "      <td>False</td>\n",
       "    </tr>\n",
       "    <tr>\n",
       "      <th>1</th>\n",
       "      <td>True</td>\n",
       "      <td>False</td>\n",
       "    </tr>\n",
       "    <tr>\n",
       "      <th>2</th>\n",
       "      <td>False</td>\n",
       "      <td>True</td>\n",
       "    </tr>\n",
       "    <tr>\n",
       "      <th>3</th>\n",
       "      <td>True</td>\n",
       "      <td>False</td>\n",
       "    </tr>\n",
       "    <tr>\n",
       "      <th>4</th>\n",
       "      <td>True</td>\n",
       "      <td>False</td>\n",
       "    </tr>\n",
       "    <tr>\n",
       "      <th>...</th>\n",
       "      <td>...</td>\n",
       "      <td>...</td>\n",
       "    </tr>\n",
       "    <tr>\n",
       "      <th>129875</th>\n",
       "      <td>False</td>\n",
       "      <td>True</td>\n",
       "    </tr>\n",
       "    <tr>\n",
       "      <th>129876</th>\n",
       "      <td>True</td>\n",
       "      <td>False</td>\n",
       "    </tr>\n",
       "    <tr>\n",
       "      <th>129877</th>\n",
       "      <td>False</td>\n",
       "      <td>True</td>\n",
       "    </tr>\n",
       "    <tr>\n",
       "      <th>129878</th>\n",
       "      <td>False</td>\n",
       "      <td>True</td>\n",
       "    </tr>\n",
       "    <tr>\n",
       "      <th>129879</th>\n",
       "      <td>True</td>\n",
       "      <td>False</td>\n",
       "    </tr>\n",
       "  </tbody>\n",
       "</table>\n",
       "<p>129487 rows × 2 columns</p>\n",
       "</div>"
      ],
      "text/plain": [
       "        고객 유형_Loyal Customer  고객 유형_disloyal Customer\n",
       "0                       True                    False\n",
       "1                       True                    False\n",
       "2                      False                     True\n",
       "3                       True                    False\n",
       "4                       True                    False\n",
       "...                      ...                      ...\n",
       "129875                 False                     True\n",
       "129876                  True                    False\n",
       "129877                 False                     True\n",
       "129878                 False                     True\n",
       "129879                  True                    False\n",
       "\n",
       "[129487 rows x 2 columns]"
      ]
     },
     "execution_count": 20,
     "metadata": {},
     "output_type": "execute_result"
    }
   ],
   "source": [
    "pd.get_dummies(df['고객 유형'].to_frame())"
   ]
  },
  {
   "cell_type": "code",
   "execution_count": 32,
   "id": "ea89a5ce-aea9-4513-9b74-0a77f10f3f68",
   "metadata": {},
   "outputs": [
    {
     "data": {
      "text/html": [
       "<div>\n",
       "<style scoped>\n",
       "    .dataframe tbody tr th:only-of-type {\n",
       "        vertical-align: middle;\n",
       "    }\n",
       "\n",
       "    .dataframe tbody tr th {\n",
       "        vertical-align: top;\n",
       "    }\n",
       "\n",
       "    .dataframe thead th {\n",
       "        text-align: right;\n",
       "    }\n",
       "</style>\n",
       "<table border=\"1\" class=\"dataframe\">\n",
       "  <thead>\n",
       "    <tr style=\"text-align: right;\">\n",
       "      <th></th>\n",
       "      <th>기내 와이파이 서비스</th>\n",
       "      <th>출발/도착 시간 편의성</th>\n",
       "      <th>온라인 예약 편의성</th>\n",
       "      <th>탑승구 위치</th>\n",
       "      <th>음식과 음료</th>\n",
       "      <th>온라인 탑승</th>\n",
       "      <th>좌석 편안함</th>\n",
       "      <th>기내 엔터테인먼트</th>\n",
       "      <th>탑승 서비스</th>\n",
       "      <th>다리 공간 서비스</th>\n",
       "      <th>수하물 처리</th>\n",
       "      <th>체크인 서비스</th>\n",
       "      <th>기내 서비스</th>\n",
       "      <th>청결도</th>\n",
       "    </tr>\n",
       "  </thead>\n",
       "  <tbody>\n",
       "    <tr>\n",
       "      <th>0</th>\n",
       "      <td>5</td>\n",
       "      <td>4</td>\n",
       "      <td>3</td>\n",
       "      <td>4</td>\n",
       "      <td>3</td>\n",
       "      <td>4</td>\n",
       "      <td>3</td>\n",
       "      <td>5</td>\n",
       "      <td>5</td>\n",
       "      <td>5</td>\n",
       "      <td>5</td>\n",
       "      <td>2</td>\n",
       "      <td>5</td>\n",
       "      <td>5</td>\n",
       "    </tr>\n",
       "    <tr>\n",
       "      <th>1</th>\n",
       "      <td>1</td>\n",
       "      <td>1</td>\n",
       "      <td>3</td>\n",
       "      <td>1</td>\n",
       "      <td>5</td>\n",
       "      <td>4</td>\n",
       "      <td>5</td>\n",
       "      <td>4</td>\n",
       "      <td>4</td>\n",
       "      <td>4</td>\n",
       "      <td>4</td>\n",
       "      <td>3</td>\n",
       "      <td>4</td>\n",
       "      <td>5</td>\n",
       "    </tr>\n",
       "    <tr>\n",
       "      <th>2</th>\n",
       "      <td>2</td>\n",
       "      <td>0</td>\n",
       "      <td>2</td>\n",
       "      <td>4</td>\n",
       "      <td>2</td>\n",
       "      <td>2</td>\n",
       "      <td>2</td>\n",
       "      <td>2</td>\n",
       "      <td>4</td>\n",
       "      <td>1</td>\n",
       "      <td>3</td>\n",
       "      <td>2</td>\n",
       "      <td>2</td>\n",
       "      <td>2</td>\n",
       "    </tr>\n",
       "    <tr>\n",
       "      <th>3</th>\n",
       "      <td>0</td>\n",
       "      <td>0</td>\n",
       "      <td>0</td>\n",
       "      <td>2</td>\n",
       "      <td>3</td>\n",
       "      <td>4</td>\n",
       "      <td>4</td>\n",
       "      <td>1</td>\n",
       "      <td>1</td>\n",
       "      <td>1</td>\n",
       "      <td>1</td>\n",
       "      <td>3</td>\n",
       "      <td>1</td>\n",
       "      <td>4</td>\n",
       "    </tr>\n",
       "    <tr>\n",
       "      <th>4</th>\n",
       "      <td>2</td>\n",
       "      <td>3</td>\n",
       "      <td>4</td>\n",
       "      <td>3</td>\n",
       "      <td>4</td>\n",
       "      <td>1</td>\n",
       "      <td>2</td>\n",
       "      <td>2</td>\n",
       "      <td>2</td>\n",
       "      <td>2</td>\n",
       "      <td>2</td>\n",
       "      <td>4</td>\n",
       "      <td>2</td>\n",
       "      <td>4</td>\n",
       "    </tr>\n",
       "    <tr>\n",
       "      <th>...</th>\n",
       "      <td>...</td>\n",
       "      <td>...</td>\n",
       "      <td>...</td>\n",
       "      <td>...</td>\n",
       "      <td>...</td>\n",
       "      <td>...</td>\n",
       "      <td>...</td>\n",
       "      <td>...</td>\n",
       "      <td>...</td>\n",
       "      <td>...</td>\n",
       "      <td>...</td>\n",
       "      <td>...</td>\n",
       "      <td>...</td>\n",
       "      <td>...</td>\n",
       "    </tr>\n",
       "    <tr>\n",
       "      <th>129875</th>\n",
       "      <td>2</td>\n",
       "      <td>1</td>\n",
       "      <td>2</td>\n",
       "      <td>3</td>\n",
       "      <td>2</td>\n",
       "      <td>2</td>\n",
       "      <td>2</td>\n",
       "      <td>2</td>\n",
       "      <td>3</td>\n",
       "      <td>1</td>\n",
       "      <td>4</td>\n",
       "      <td>2</td>\n",
       "      <td>3</td>\n",
       "      <td>2</td>\n",
       "    </tr>\n",
       "    <tr>\n",
       "      <th>129876</th>\n",
       "      <td>4</td>\n",
       "      <td>4</td>\n",
       "      <td>4</td>\n",
       "      <td>4</td>\n",
       "      <td>2</td>\n",
       "      <td>4</td>\n",
       "      <td>5</td>\n",
       "      <td>5</td>\n",
       "      <td>5</td>\n",
       "      <td>5</td>\n",
       "      <td>5</td>\n",
       "      <td>5</td>\n",
       "      <td>5</td>\n",
       "      <td>4</td>\n",
       "    </tr>\n",
       "    <tr>\n",
       "      <th>129877</th>\n",
       "      <td>1</td>\n",
       "      <td>1</td>\n",
       "      <td>1</td>\n",
       "      <td>3</td>\n",
       "      <td>4</td>\n",
       "      <td>1</td>\n",
       "      <td>5</td>\n",
       "      <td>4</td>\n",
       "      <td>3</td>\n",
       "      <td>2</td>\n",
       "      <td>4</td>\n",
       "      <td>5</td>\n",
       "      <td>5</td>\n",
       "      <td>4</td>\n",
       "    </tr>\n",
       "    <tr>\n",
       "      <th>129878</th>\n",
       "      <td>1</td>\n",
       "      <td>1</td>\n",
       "      <td>1</td>\n",
       "      <td>5</td>\n",
       "      <td>1</td>\n",
       "      <td>1</td>\n",
       "      <td>1</td>\n",
       "      <td>1</td>\n",
       "      <td>4</td>\n",
       "      <td>5</td>\n",
       "      <td>1</td>\n",
       "      <td>5</td>\n",
       "      <td>4</td>\n",
       "      <td>1</td>\n",
       "    </tr>\n",
       "    <tr>\n",
       "      <th>129879</th>\n",
       "      <td>1</td>\n",
       "      <td>3</td>\n",
       "      <td>3</td>\n",
       "      <td>3</td>\n",
       "      <td>1</td>\n",
       "      <td>1</td>\n",
       "      <td>1</td>\n",
       "      <td>1</td>\n",
       "      <td>1</td>\n",
       "      <td>1</td>\n",
       "      <td>4</td>\n",
       "      <td>4</td>\n",
       "      <td>3</td>\n",
       "      <td>1</td>\n",
       "    </tr>\n",
       "  </tbody>\n",
       "</table>\n",
       "<p>129487 rows × 14 columns</p>\n",
       "</div>"
      ],
      "text/plain": [
       "        기내 와이파이 서비스  출발/도착 시간 편의성  온라인 예약 편의성  탑승구 위치  음식과 음료  온라인 탑승  좌석 편안함  \\\n",
       "0                 5             4           3       4       3       4       3   \n",
       "1                 1             1           3       1       5       4       5   \n",
       "2                 2             0           2       4       2       2       2   \n",
       "3                 0             0           0       2       3       4       4   \n",
       "4                 2             3           4       3       4       1       2   \n",
       "...             ...           ...         ...     ...     ...     ...     ...   \n",
       "129875            2             1           2       3       2       2       2   \n",
       "129876            4             4           4       4       2       4       5   \n",
       "129877            1             1           1       3       4       1       5   \n",
       "129878            1             1           1       5       1       1       1   \n",
       "129879            1             3           3       3       1       1       1   \n",
       "\n",
       "        기내 엔터테인먼트  탑승 서비스  다리 공간 서비스  수하물 처리  체크인 서비스  기내 서비스  청결도  \n",
       "0               5       5          5       5        2       5    5  \n",
       "1               4       4          4       4        3       4    5  \n",
       "2               2       4          1       3        2       2    2  \n",
       "3               1       1          1       1        3       1    4  \n",
       "4               2       2          2       2        4       2    4  \n",
       "...           ...     ...        ...     ...      ...     ...  ...  \n",
       "129875          2       3          1       4        2       3    2  \n",
       "129876          5       5          5       5        5       5    4  \n",
       "129877          4       3          2       4        5       5    4  \n",
       "129878          1       4          5       1        5       4    1  \n",
       "129879          1       1          1       4        4       3    1  \n",
       "\n",
       "[129487 rows x 14 columns]"
      ]
     },
     "execution_count": 32,
     "metadata": {},
     "output_type": "execute_result"
    }
   ],
   "source": [
    "df.loc[  : , '기내 와이파이 서비스':'청결도' ]"
   ]
  },
  {
   "cell_type": "code",
   "execution_count": 41,
   "id": "3c302bc8-ae44-4f2e-91f3-bc11d27ba394",
   "metadata": {},
   "outputs": [
    {
     "ename": "ValueError",
     "evalue": "The truth value of an array with more than one element is ambiguous. Use a.any() or a.all()",
     "output_type": "error",
     "traceback": [
      "\u001b[1;31m---------------------------------------------------------------------------\u001b[0m",
      "\u001b[1;31mValueError\u001b[0m                                Traceback (most recent call last)",
      "Cell \u001b[1;32mIn[41], line 1\u001b[0m\n\u001b[1;32m----> 1\u001b[0m \u001b[38;5;28;01mif\u001b[39;00m df[\u001b[38;5;124m'\u001b[39m\u001b[38;5;124m만족도\u001b[39m\u001b[38;5;124m'\u001b[39m]\u001b[38;5;241m.\u001b[39mvalues \u001b[38;5;241m==\u001b[39m \u001b[38;5;124m'\u001b[39m\u001b[38;5;124msatisfied\u001b[39m\u001b[38;5;124m'\u001b[39m:\n\u001b[0;32m      2\u001b[0m     df[\u001b[38;5;124m'\u001b[39m\u001b[38;5;124m만족도\u001b[39m\u001b[38;5;124m'\u001b[39m]\u001b[38;5;241m.\u001b[39mvalues \u001b[38;5;241m=\u001b[39m \u001b[38;5;241m1\u001b[39m\n\u001b[0;32m      3\u001b[0m \u001b[38;5;28;01melif\u001b[39;00m df[\u001b[38;5;124m'\u001b[39m\u001b[38;5;124m만족도\u001b[39m\u001b[38;5;124m'\u001b[39m]\u001b[38;5;241m.\u001b[39mvalues \u001b[38;5;241m==\u001b[39m \u001b[38;5;124m'\u001b[39m\u001b[38;5;124mneutral or dissatisfied\u001b[39m\u001b[38;5;124m'\u001b[39m:\n",
      "\u001b[1;31mValueError\u001b[0m: The truth value of an array with more than one element is ambiguous. Use a.any() or a.all()"
     ]
    }
   ],
   "source": []
  },
  {
   "cell_type": "code",
   "execution_count": null,
   "id": "bb943e0c-5dec-48df-9785-159c54bd2c85",
   "metadata": {},
   "outputs": [],
   "source": []
  },
  {
   "cell_type": "code",
   "execution_count": 17,
   "id": "1585734f-7a20-492c-b5d5-d57077791b8c",
   "metadata": {},
   "outputs": [
    {
     "data": {
      "text/plain": [
       "True"
      ]
     },
     "execution_count": 17,
     "metadata": {},
     "output_type": "execute_result"
    }
   ],
   "source": [
    "df['성별'].dtypes == object"
   ]
  },
  {
   "cell_type": "code",
   "execution_count": null,
   "id": "d66713c1-7578-48fd-ab7f-b9cb1d842995",
   "metadata": {},
   "outputs": [],
   "source": []
  },
  {
   "cell_type": "code",
   "execution_count": 42,
   "id": "c6bf8eb3-0512-4faf-b5c0-1dc26cc90377",
   "metadata": {},
   "outputs": [
    {
     "data": {
      "text/plain": [
       "0         1\n",
       "1         1\n",
       "2         0\n",
       "3         1\n",
       "4         1\n",
       "         ..\n",
       "129875    0\n",
       "129876    1\n",
       "129877    0\n",
       "129878    0\n",
       "129879    0\n",
       "Name: 만족도, Length: 129487, dtype: int64"
      ]
     },
     "execution_count": 42,
     "metadata": {},
     "output_type": "execute_result"
    }
   ],
   "source": [
    "df['만족도'].replace({'satisfied' : 1 , 'neutral or dissatisfied' : 0} )"
   ]
  },
  {
   "cell_type": "code",
   "execution_count": 160,
   "id": "56496579-8a34-4891-9f13-6e235eb47570",
   "metadata": {},
   "outputs": [
    {
     "data": {
      "text/plain": [
       "array(['Female', 'Male'], dtype=object)"
      ]
     },
     "execution_count": 160,
     "metadata": {},
     "output_type": "execute_result"
    }
   ],
   "source": [
    "df['성별'].unique()"
   ]
  },
  {
   "cell_type": "code",
   "execution_count": 110,
   "id": "e56e49f6-ffdb-4c34-bc42-8f3edd287dbb",
   "metadata": {},
   "outputs": [],
   "source": [
    "X = df.iloc[ : , 0: -1 ]"
   ]
  },
  {
   "cell_type": "code",
   "execution_count": 111,
   "id": "e9c1f2af-d30b-45f4-bb0a-d8caeca402f6",
   "metadata": {},
   "outputs": [],
   "source": [
    "y = df['만족도']"
   ]
  },
  {
   "cell_type": "code",
   "execution_count": 18,
   "id": "5efc565a-eec7-46c2-a2b2-872f8f07dd70",
   "metadata": {},
   "outputs": [
    {
     "ename": "NameError",
     "evalue": "name 'X' is not defined",
     "output_type": "error",
     "traceback": [
      "\u001b[1;31m---------------------------------------------------------------------------\u001b[0m",
      "\u001b[1;31mNameError\u001b[0m                                 Traceback (most recent call last)",
      "Cell \u001b[1;32mIn[18], line 1\u001b[0m\n\u001b[1;32m----> 1\u001b[0m X\n",
      "\u001b[1;31mNameError\u001b[0m: name 'X' is not defined"
     ]
    }
   ],
   "source": [
    "X"
   ]
  },
  {
   "cell_type": "code",
   "execution_count": 113,
   "id": "5220b2d7-0077-4431-a0e9-a3906d241e05",
   "metadata": {},
   "outputs": [],
   "source": [
    "from sklearn.preprocessing import LabelEncoder,OneHotEncoder\n",
    "from sklearn.compose import ColumnTransformer"
   ]
  },
  {
   "cell_type": "code",
   "execution_count": 114,
   "id": "d72bbb5c-d575-4fb6-a25f-cdc865890d67",
   "metadata": {},
   "outputs": [],
   "source": [
    "encoder = LabelEncoder()"
   ]
  },
  {
   "cell_type": "code",
   "execution_count": 115,
   "id": "b74a453b-01fa-4424-996a-4467e8426551",
   "metadata": {},
   "outputs": [
    {
     "data": {
      "text/plain": [
       "['Female', 'Male']"
      ]
     },
     "execution_count": 115,
     "metadata": {},
     "output_type": "execute_result"
    }
   ],
   "source": [
    "sorted(X['성별'].unique())"
   ]
  },
  {
   "cell_type": "code",
   "execution_count": 116,
   "id": "fb6dd28c-20a6-439a-84be-4afe59e6c086",
   "metadata": {},
   "outputs": [],
   "source": [
    "X['성별'] = encoder.fit_transform(X['성별'])"
   ]
  },
  {
   "cell_type": "code",
   "execution_count": 117,
   "id": "f1e58eb9-210e-4656-a5e7-5ba791322dad",
   "metadata": {},
   "outputs": [
    {
     "data": {
      "text/plain": [
       "['Loyal Customer', 'disloyal Customer']"
      ]
     },
     "execution_count": 117,
     "metadata": {},
     "output_type": "execute_result"
    }
   ],
   "source": [
    "sorted(X['고객 유형'].unique())"
   ]
  },
  {
   "cell_type": "code",
   "execution_count": 118,
   "id": "dd1b604f-e60b-42c5-b442-52fbff54f6c5",
   "metadata": {},
   "outputs": [],
   "source": [
    "X['고객 유형'] = encoder.fit_transform(X['고객 유형'])"
   ]
  },
  {
   "cell_type": "code",
   "execution_count": 119,
   "id": "852173f3-e5f7-45af-a46e-9c17cc39ea9f",
   "metadata": {},
   "outputs": [
    {
     "data": {
      "text/plain": [
       "['Business travel', 'Personal Travel']"
      ]
     },
     "execution_count": 119,
     "metadata": {},
     "output_type": "execute_result"
    }
   ],
   "source": [
    "sorted(X['비행 목적'].unique())"
   ]
  },
  {
   "cell_type": "code",
   "execution_count": null,
   "id": "e616954d-c0c6-44ad-8995-bd27a398b558",
   "metadata": {},
   "outputs": [],
   "source": []
  },
  {
   "cell_type": "code",
   "execution_count": 120,
   "id": "7f3b243f-129b-4ab1-a3c4-c453c64b2893",
   "metadata": {},
   "outputs": [],
   "source": [
    "X['비행 목적'] = encoder.fit_transform(X['비행 목적'])"
   ]
  },
  {
   "cell_type": "code",
   "execution_count": 121,
   "id": "e1975b44-4637-41d3-a860-bca07a1dd09f",
   "metadata": {},
   "outputs": [
    {
     "data": {
      "text/plain": [
       "['Business', 'Eco', 'Eco Plus']"
      ]
     },
     "execution_count": 121,
     "metadata": {},
     "output_type": "execute_result"
    }
   ],
   "source": [
    "sorted(X['클래스'].unique())"
   ]
  },
  {
   "cell_type": "code",
   "execution_count": 122,
   "id": "882b265f-af75-4165-b504-5ab46904b4e3",
   "metadata": {},
   "outputs": [],
   "source": [
    "ct = ColumnTransformer([ ('encoder', OneHotEncoder(),[4]) ] , remainder = 'passthrough')"
   ]
  },
  {
   "cell_type": "code",
   "execution_count": 123,
   "id": "a82eaa06-5996-49cc-a306-639eea3a04eb",
   "metadata": {},
   "outputs": [],
   "source": [
    "X = ct.fit_transform( X )"
   ]
  },
  {
   "cell_type": "code",
   "execution_count": 194,
   "id": "df47eefc-dcd1-4e04-ade9-94418c2d0c6b",
   "metadata": {},
   "outputs": [
    {
     "data": {
      "text/plain": [
       "array([[0.        , 1.        , 0.        , ..., 1.        , 0.03140704,\n",
       "        0.02777778],\n",
       "       [1.        , 0.        , 0.        , ..., 1.        , 0.        ,\n",
       "        0.        ],\n",
       "       [0.        , 1.        , 0.        , ..., 0.4       , 0.        ,\n",
       "        0.        ],\n",
       "       ...,\n",
       "       [1.        , 0.        , 0.        , ..., 0.8       , 0.00439698,\n",
       "        0.00883838],\n",
       "       [0.        , 1.        , 0.        , ..., 0.2       , 0.        ,\n",
       "        0.        ],\n",
       "       [1.        , 0.        , 0.        , ..., 0.2       , 0.        ,\n",
       "        0.        ]])"
      ]
     },
     "execution_count": 194,
     "metadata": {},
     "output_type": "execute_result"
    }
   ],
   "source": [
    "X"
   ]
  },
  {
   "cell_type": "code",
   "execution_count": 195,
   "id": "c5acbd3d-4220-4ec9-986a-5d81c78d6113",
   "metadata": {},
   "outputs": [
    {
     "ename": "AttributeError",
     "evalue": "'numpy.ndarray' object has no attribute 'unique'",
     "output_type": "error",
     "traceback": [
      "\u001b[1;31m---------------------------------------------------------------------------\u001b[0m",
      "\u001b[1;31mAttributeError\u001b[0m                            Traceback (most recent call last)",
      "Cell \u001b[1;32mIn[195], line 1\u001b[0m\n\u001b[1;32m----> 1\u001b[0m \u001b[38;5;28msorted\u001b[39m(y\u001b[38;5;241m.\u001b[39munique())\n",
      "\u001b[1;31mAttributeError\u001b[0m: 'numpy.ndarray' object has no attribute 'unique'"
     ]
    }
   ],
   "source": [
    "sorted(y.unique())"
   ]
  },
  {
   "cell_type": "code",
   "execution_count": 126,
   "id": "f743b7f3-6f40-4258-b35e-b354a15906a6",
   "metadata": {},
   "outputs": [],
   "source": [
    "y = encoder.fit_transform(y)"
   ]
  },
  {
   "cell_type": "code",
   "execution_count": 127,
   "id": "10e56e03-fac1-474d-8633-1d5740aac713",
   "metadata": {},
   "outputs": [
    {
     "data": {
      "text/plain": [
       "array([1, 1, 0, ..., 0, 0, 0])"
      ]
     },
     "execution_count": 127,
     "metadata": {},
     "output_type": "execute_result"
    }
   ],
   "source": [
    "y"
   ]
  },
  {
   "cell_type": "code",
   "execution_count": 128,
   "id": "8995b175-6da2-469d-9c08-5a02664ecc4b",
   "metadata": {},
   "outputs": [],
   "source": [
    "from sklearn.preprocessing import StandardScaler,MinMaxScaler"
   ]
  },
  {
   "cell_type": "code",
   "execution_count": 129,
   "id": "d495221c-5444-4588-a68a-1d50297aa776",
   "metadata": {},
   "outputs": [],
   "source": [
    "X_scaler = MinMaxScaler()"
   ]
  },
  {
   "cell_type": "code",
   "execution_count": 130,
   "id": "0340bd7c-bbfe-4bac-87af-ffe1bd3afecf",
   "metadata": {},
   "outputs": [],
   "source": [
    "X = X_scaler.fit_transform(X)"
   ]
  },
  {
   "cell_type": "code",
   "execution_count": 131,
   "id": "6fb8060f-ba9d-44bd-be94-6b0e09a7ee10",
   "metadata": {},
   "outputs": [
    {
     "data": {
      "text/plain": [
       "array([[0.        , 1.        , 0.        , ..., 1.        , 0.03140704,\n",
       "        0.02777778],\n",
       "       [1.        , 0.        , 0.        , ..., 1.        , 0.        ,\n",
       "        0.        ],\n",
       "       [0.        , 1.        , 0.        , ..., 0.4       , 0.        ,\n",
       "        0.        ],\n",
       "       ...,\n",
       "       [1.        , 0.        , 0.        , ..., 0.8       , 0.00439698,\n",
       "        0.00883838],\n",
       "       [0.        , 1.        , 0.        , ..., 0.2       , 0.        ,\n",
       "        0.        ],\n",
       "       [1.        , 0.        , 0.        , ..., 0.2       , 0.        ,\n",
       "        0.        ]])"
      ]
     },
     "execution_count": 131,
     "metadata": {},
     "output_type": "execute_result"
    }
   ],
   "source": [
    "X"
   ]
  },
  {
   "cell_type": "code",
   "execution_count": 132,
   "id": "314c6f68-cdda-4132-9f81-3749f622f16f",
   "metadata": {},
   "outputs": [],
   "source": [
    "from sklearn.model_selection import train_test_split"
   ]
  },
  {
   "cell_type": "code",
   "execution_count": 133,
   "id": "ba4d7e39-9f6d-4ae4-9aa7-f7e2221d19ba",
   "metadata": {},
   "outputs": [],
   "source": [
    "X_train,X_test,y_train,y_test = train_test_split(X,y,test_size=0.2,random_state=10)"
   ]
  },
  {
   "cell_type": "code",
   "execution_count": 134,
   "id": "cceade1a-c5bd-4d72-ae47-406a38505aeb",
   "metadata": {},
   "outputs": [],
   "source": [
    "from sklearn.metrics import confusion_matrix,accuracy_score"
   ]
  },
  {
   "cell_type": "code",
   "execution_count": 135,
   "id": "a875d10f-7dbf-460c-84b6-4020e77bb1a7",
   "metadata": {},
   "outputs": [],
   "source": [
    "from sklearn.tree import DecisionTreeClassifier"
   ]
  },
  {
   "cell_type": "code",
   "execution_count": 136,
   "id": "8c8c4fbd-9c0c-48d7-b949-3ebbe73a3298",
   "metadata": {},
   "outputs": [],
   "source": [
    "classifier = DecisionTreeClassifier(random_state=1)"
   ]
  },
  {
   "cell_type": "code",
   "execution_count": 137,
   "id": "9cd3460d-d305-4b14-a18e-13055a9f57d9",
   "metadata": {},
   "outputs": [
    {
     "data": {
      "text/html": [
       "<style>#sk-container-id-3 {color: black;background-color: white;}#sk-container-id-3 pre{padding: 0;}#sk-container-id-3 div.sk-toggleable {background-color: white;}#sk-container-id-3 label.sk-toggleable__label {cursor: pointer;display: block;width: 100%;margin-bottom: 0;padding: 0.3em;box-sizing: border-box;text-align: center;}#sk-container-id-3 label.sk-toggleable__label-arrow:before {content: \"▸\";float: left;margin-right: 0.25em;color: #696969;}#sk-container-id-3 label.sk-toggleable__label-arrow:hover:before {color: black;}#sk-container-id-3 div.sk-estimator:hover label.sk-toggleable__label-arrow:before {color: black;}#sk-container-id-3 div.sk-toggleable__content {max-height: 0;max-width: 0;overflow: hidden;text-align: left;background-color: #f0f8ff;}#sk-container-id-3 div.sk-toggleable__content pre {margin: 0.2em;color: black;border-radius: 0.25em;background-color: #f0f8ff;}#sk-container-id-3 input.sk-toggleable__control:checked~div.sk-toggleable__content {max-height: 200px;max-width: 100%;overflow: auto;}#sk-container-id-3 input.sk-toggleable__control:checked~label.sk-toggleable__label-arrow:before {content: \"▾\";}#sk-container-id-3 div.sk-estimator input.sk-toggleable__control:checked~label.sk-toggleable__label {background-color: #d4ebff;}#sk-container-id-3 div.sk-label input.sk-toggleable__control:checked~label.sk-toggleable__label {background-color: #d4ebff;}#sk-container-id-3 input.sk-hidden--visually {border: 0;clip: rect(1px 1px 1px 1px);clip: rect(1px, 1px, 1px, 1px);height: 1px;margin: -1px;overflow: hidden;padding: 0;position: absolute;width: 1px;}#sk-container-id-3 div.sk-estimator {font-family: monospace;background-color: #f0f8ff;border: 1px dotted black;border-radius: 0.25em;box-sizing: border-box;margin-bottom: 0.5em;}#sk-container-id-3 div.sk-estimator:hover {background-color: #d4ebff;}#sk-container-id-3 div.sk-parallel-item::after {content: \"\";width: 100%;border-bottom: 1px solid gray;flex-grow: 1;}#sk-container-id-3 div.sk-label:hover label.sk-toggleable__label {background-color: #d4ebff;}#sk-container-id-3 div.sk-serial::before {content: \"\";position: absolute;border-left: 1px solid gray;box-sizing: border-box;top: 0;bottom: 0;left: 50%;z-index: 0;}#sk-container-id-3 div.sk-serial {display: flex;flex-direction: column;align-items: center;background-color: white;padding-right: 0.2em;padding-left: 0.2em;position: relative;}#sk-container-id-3 div.sk-item {position: relative;z-index: 1;}#sk-container-id-3 div.sk-parallel {display: flex;align-items: stretch;justify-content: center;background-color: white;position: relative;}#sk-container-id-3 div.sk-item::before, #sk-container-id-3 div.sk-parallel-item::before {content: \"\";position: absolute;border-left: 1px solid gray;box-sizing: border-box;top: 0;bottom: 0;left: 50%;z-index: -1;}#sk-container-id-3 div.sk-parallel-item {display: flex;flex-direction: column;z-index: 1;position: relative;background-color: white;}#sk-container-id-3 div.sk-parallel-item:first-child::after {align-self: flex-end;width: 50%;}#sk-container-id-3 div.sk-parallel-item:last-child::after {align-self: flex-start;width: 50%;}#sk-container-id-3 div.sk-parallel-item:only-child::after {width: 0;}#sk-container-id-3 div.sk-dashed-wrapped {border: 1px dashed gray;margin: 0 0.4em 0.5em 0.4em;box-sizing: border-box;padding-bottom: 0.4em;background-color: white;}#sk-container-id-3 div.sk-label label {font-family: monospace;font-weight: bold;display: inline-block;line-height: 1.2em;}#sk-container-id-3 div.sk-label-container {text-align: center;}#sk-container-id-3 div.sk-container {/* jupyter's `normalize.less` sets `[hidden] { display: none; }` but bootstrap.min.css set `[hidden] { display: none !important; }` so we also need the `!important` here to be able to override the default hidden behavior on the sphinx rendered scikit-learn.org. See: https://github.com/scikit-learn/scikit-learn/issues/21755 */display: inline-block !important;position: relative;}#sk-container-id-3 div.sk-text-repr-fallback {display: none;}</style><div id=\"sk-container-id-3\" class=\"sk-top-container\"><div class=\"sk-text-repr-fallback\"><pre>DecisionTreeClassifier(random_state=1)</pre><b>In a Jupyter environment, please rerun this cell to show the HTML representation or trust the notebook. <br />On GitHub, the HTML representation is unable to render, please try loading this page with nbviewer.org.</b></div><div class=\"sk-container\" hidden><div class=\"sk-item\"><div class=\"sk-estimator sk-toggleable\"><input class=\"sk-toggleable__control sk-hidden--visually\" id=\"sk-estimator-id-3\" type=\"checkbox\" checked><label for=\"sk-estimator-id-3\" class=\"sk-toggleable__label sk-toggleable__label-arrow\">DecisionTreeClassifier</label><div class=\"sk-toggleable__content\"><pre>DecisionTreeClassifier(random_state=1)</pre></div></div></div></div></div>"
      ],
      "text/plain": [
       "DecisionTreeClassifier(random_state=1)"
      ]
     },
     "execution_count": 137,
     "metadata": {},
     "output_type": "execute_result"
    }
   ],
   "source": [
    "classifier.fit(X_train,y_train)"
   ]
  },
  {
   "cell_type": "code",
   "execution_count": 138,
   "id": "2e1dc53e-3cc4-438d-a58d-6fa71587719c",
   "metadata": {},
   "outputs": [],
   "source": [
    "y_pred = classifier.predict(X_test)"
   ]
  },
  {
   "cell_type": "code",
   "execution_count": 139,
   "id": "31abcfc8-3cba-4b9b-a35c-df22a133c7f0",
   "metadata": {},
   "outputs": [
    {
     "data": {
      "text/plain": [
       "0.9466368059309599"
      ]
     },
     "execution_count": 139,
     "metadata": {},
     "output_type": "execute_result"
    }
   ],
   "source": [
    "accuracy_score(y_test,y_pred)"
   ]
  },
  {
   "cell_type": "code",
   "execution_count": 140,
   "id": "9ecadb60-884c-4114-98a3-694cc743e065",
   "metadata": {},
   "outputs": [
    {
     "data": {
      "text/plain": [
       "array([[13815,   722],\n",
       "       [  660, 10701]], dtype=int64)"
      ]
     },
     "execution_count": 140,
     "metadata": {},
     "output_type": "execute_result"
    }
   ],
   "source": [
    "confusion_matrix(y_test,y_pred)"
   ]
  },
  {
   "cell_type": "code",
   "execution_count": 141,
   "id": "56a9f94a-1c10-46e5-b5d5-c019d9326e09",
   "metadata": {},
   "outputs": [],
   "source": [
    "import joblib"
   ]
  },
  {
   "cell_type": "code",
   "execution_count": 142,
   "id": "f80c1fe4-e0eb-44f9-a781-f4f287cb8fc9",
   "metadata": {},
   "outputs": [
    {
     "data": {
      "text/plain": [
       "['classifier.pkl']"
      ]
     },
     "execution_count": 142,
     "metadata": {},
     "output_type": "execute_result"
    }
   ],
   "source": [
    "joblib.dump(classifier,'classifier.pkl')"
   ]
  },
  {
   "cell_type": "code",
   "execution_count": 143,
   "id": "8658aaf5-6d79-417c-853c-2848d1c11cbf",
   "metadata": {},
   "outputs": [
    {
     "data": {
      "text/plain": [
       "['ct.pkl']"
      ]
     },
     "execution_count": 143,
     "metadata": {},
     "output_type": "execute_result"
    }
   ],
   "source": [
    "joblib.dump(ct,'ct.pkl')"
   ]
  },
  {
   "cell_type": "code",
   "execution_count": null,
   "id": "7fcb6b28-afab-4783-b48f-3702cf8bede2",
   "metadata": {},
   "outputs": [],
   "source": []
  }
 ],
 "metadata": {
  "kernelspec": {
   "display_name": "Python 3 (ipykernel)",
   "language": "python",
   "name": "python3"
  },
  "language_info": {
   "codemirror_mode": {
    "name": "ipython",
    "version": 3
   },
   "file_extension": ".py",
   "mimetype": "text/x-python",
   "name": "python",
   "nbconvert_exporter": "python",
   "pygments_lexer": "ipython3",
   "version": "3.11.7"
  }
 },
 "nbformat": 4,
 "nbformat_minor": 5
}
